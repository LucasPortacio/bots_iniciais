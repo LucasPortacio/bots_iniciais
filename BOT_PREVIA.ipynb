{
 "cells": [
  {
   "cell_type": "code",
   "execution_count": 1,
   "metadata": {},
   "outputs": [],
   "source": [
    "import telepot\n",
    "import datetime\n",
    "import pandas as pd"
   ]
  },
  {
   "cell_type": "code",
   "execution_count": null,
   "metadata": {},
   "outputs": [],
   "source": [
    "# Token do seu bot do Telegram (obtenha isso com o BotFather)\n",
    "telegram_token = 'token'\n",
    "# ID do chat ou usuário para o qual você deseja enviar a mensagem\n",
    "chat_id = 'chat'"
   ]
  },
  {
   "cell_type": "code",
   "execution_count": null,
   "metadata": {},
   "outputs": [
    {
     "name": "stdout",
     "output_type": "stream",
     "text": [
      "2023-09-20\n"
     ]
    }
   ],
   "source": [
    "# Data de hoje\n",
    "data_hoje = datetime.date.today() + datetime.timedelta(days=0)\n",
    "\n",
    "print(data_hoje)"
   ]
  },
  {
   "cell_type": "code",
   "execution_count": null,
   "metadata": {},
   "outputs": [
    {
     "data": {
      "text/html": [
       "<div>\n",
       "<style scoped>\n",
       "    .dataframe tbody tr th:only-of-type {\n",
       "        vertical-align: middle;\n",
       "    }\n",
       "\n",
       "    .dataframe tbody tr th {\n",
       "        vertical-align: top;\n",
       "    }\n",
       "\n",
       "    .dataframe thead th {\n",
       "        text-align: right;\n",
       "    }\n",
       "</style>\n",
       "<table border=\"1\" class=\"dataframe\">\n",
       "  <thead>\n",
       "    <tr style=\"text-align: right;\">\n",
       "      <th></th>\n",
       "      <th>VENCIMENTO</th>\n",
       "      <th>PRÉVIA</th>\n",
       "      <th>ENVIO WHATS</th>\n",
       "    </tr>\n",
       "  </thead>\n",
       "  <tbody>\n",
       "    <tr>\n",
       "      <th>0</th>\n",
       "      <td>2023-09-01</td>\n",
       "      <td>2023-09-13</td>\n",
       "      <td>2023-09-15</td>\n",
       "    </tr>\n",
       "    <tr>\n",
       "      <th>1</th>\n",
       "      <td>2023-09-07</td>\n",
       "      <td>2023-09-20</td>\n",
       "      <td>2023-09-22</td>\n",
       "    </tr>\n",
       "  </tbody>\n",
       "</table>\n",
       "</div>"
      ],
      "text/plain": [
       "  VENCIMENTO     PRÉVIA ENVIO WHATS\n",
       "0 2023-09-01 2023-09-13  2023-09-15\n",
       "1 2023-09-07 2023-09-20  2023-09-22"
      ]
     },
     "execution_count": 538,
     "metadata": {},
     "output_type": "execute_result"
    }
   ],
   "source": [
    "# Lendo df\n",
    "\n",
    "arquivo = pd.read_excel('C:/Users/Lucas Gomes/Downloads/arquivo.xlsx')\n",
    "\n",
    "arquivo.head()"
   ]
  },
  {
   "cell_type": "code",
   "execution_count": null,
   "metadata": {},
   "outputs": [],
   "source": [
    "# Converta a coluna 'PRÉVIA' para o formato de data (se já não estiver)\n",
    "arquivo['PRÉVIA'] = pd.to_datetime(arquivo['PRÉVIA'], errors='coerce').dt.date"
   ]
  },
  {
   "cell_type": "code",
   "execution_count": null,
   "metadata": {},
   "outputs": [],
   "source": [
    "# Retornar a coluna Vencimento se for verdadeiro\n",
    "vencimento = arquivo.loc[arquivo['PRÉVIA'] == data_hoje, 'VENCIMENTO']"
   ]
  },
  {
   "cell_type": "code",
   "execution_count": null,
   "metadata": {},
   "outputs": [],
   "source": [
    "# Retornar a coluna Envio Whats se for verdadeiro\n",
    "envio = arquivo.loc[arquivo['PRÉVIA'] == data_hoje, 'ENVIO WHATS']"
   ]
  },
  {
   "cell_type": "code",
   "execution_count": null,
   "metadata": {},
   "outputs": [
    {
     "name": "stdout",
     "output_type": "stream",
     "text": [
      "Hoje temos prévia do volume de envio do dia 22/09/2023 referente ao vencimento: 07/09/2023.\n"
     ]
    }
   ],
   "source": [
    "# Condição para envio da msg\n",
    "\n",
    "if (arquivo['PRÉVIA']== data_hoje).any():\n",
    "\n",
    "    data_vencimento = vencimento.iloc[0].strftime('%d/%m/%Y')\n",
    "    data_envio = envio.iloc[0].strftime('%d/%m/%Y')\n",
    "\n",
    "    mensagem = (f'Hoje temos prévia do volume de envio do dia {data_envio} referente ao vencimento: {data_vencimento}.')\n",
    "    print(mensagem)\n",
    "\n",
    "    bot = telepot.Bot(telegram_token)\n",
    "\n",
    "    bot.sendMessage(chat_id, mensagem)  \n"
   ]
  }
 ],
 "metadata": {
  "interpreter": {
   "hash": "713144d2bbbede84a1da11c85bed8fc4e42675ca1a53431544ec4ad4bc9f036f"
  },
  "kernelspec": {
   "display_name": "Python 3.11.4 64-bit",
   "language": "python",
   "name": "python3"
  },
  "language_info": {
   "codemirror_mode": {
    "name": "ipython",
    "version": 3
   },
   "file_extension": ".py",
   "mimetype": "text/x-python",
   "name": "python",
   "nbconvert_exporter": "python",
   "pygments_lexer": "ipython3",
   "version": "3.11.4"
  },
  "orig_nbformat": 4
 },
 "nbformat": 4,
 "nbformat_minor": 2
}
