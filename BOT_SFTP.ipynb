{
 "cells": [
  {
   "cell_type": "code",
   "execution_count": 251,
   "metadata": {},
   "outputs": [],
   "source": [
    "import paramiko\n",
    "import telepot\n",
    "from helpers.helpers import Data"
   ]
  },
  {
   "cell_type": "code",
   "execution_count": 252,
   "metadata": {},
   "outputs": [],
   "source": [
    "# Configurações de conexão\n",
    "host = \"host\"\n",
    "port = 'porta'\n",
    "username = \"user\"\n",
    "password = \"pass\""
   ]
  },
  {
   "cell_type": "code",
   "execution_count": 253,
   "metadata": {},
   "outputs": [],
   "source": [
    "# Definir data (1 = d-1)\n",
    "data = Data(1)\n",
    "data_ok = data.replace(\"-\", '')"
   ]
  },
  {
   "cell_type": "code",
   "execution_count": 254,
   "metadata": {},
   "outputs": [],
   "source": [
    "# Diretório do SFTP\n",
    "diretorio_remoto = f\"/02. Input/2023/11. Novembro/Digital/Manual/{data_ok}\""
   ]
  },
  {
   "cell_type": "code",
   "execution_count": 255,
   "metadata": {},
   "outputs": [],
   "source": [
    "# Crie uma instância do cliente SSH\n",
    "ssh_client = paramiko.SSHClient()\n",
    "ssh_client.set_missing_host_key_policy(paramiko.AutoAddPolicy())  # Ignora a verificação de chave de host (não recomendado em produção)\n",
    "ssh_client.connect(host, port, username, password)\n",
    "\n",
    "# Crie uma instância do cliente SFTP usando a conexão SSH\n",
    "sftp = ssh_client.open_sftp()"
   ]
  },
  {
   "cell_type": "code",
   "execution_count": 256,
   "metadata": {},
   "outputs": [
    {
     "name": "stdout",
     "output_type": "stream",
     "text": [
      "Arquivo do dia 2023-11-06 encontrado no SFTP: 06112023_metadado.csv\n"
     ]
    }
   ],
   "source": [
    "# Listar arquivos no diretório remoto\n",
    "arquivos = sftp.listdir(diretorio_remoto)\n",
    "\n",
    "mensagem = None \n",
    "mensagem2 = None\n",
    "\n",
    "if not arquivos:\n",
    "     mensagem = f\"Arquivo do dia {data} não localizado no SFTP.\"\n",
    "     print(mensagem)\n",
    "else:\n",
    "    for arquivo in arquivos:\n",
    "        mensagem2 = (f\"Arquivo do dia {data} encontrado no SFTP: {arquivo}\")\n",
    "        print(mensagem2)"
   ]
  },
  {
   "cell_type": "code",
   "execution_count": 257,
   "metadata": {},
   "outputs": [],
   "source": [
    "# Envio no Telegram\n",
    "\n",
    "# Token do seu bot do Telegram (obtenha isso com o BotFather)\n",
    "telegram_token = 'token'\n",
    "# ID do chat ou usuário para o qual você deseja enviar a mensagem\n",
    "chat_id = 'chat'\n",
    "\n",
    "bot = telepot.Bot(telegram_token)\n",
    "\n",
    "if mensagem != None:\n",
    "\n",
    "    bot.sendMessage(chat_id, mensagem)\n",
    "else:\n",
    "    bot.sendMessage(chat_id, mensagem2)"
   ]
  }
 ],
 "metadata": {
  "interpreter": {
   "hash": "713144d2bbbede84a1da11c85bed8fc4e42675ca1a53431544ec4ad4bc9f036f"
  },
  "kernelspec": {
   "display_name": "Python 3.11.4 64-bit",
   "language": "python",
   "name": "python3"
  },
  "language_info": {
   "codemirror_mode": {
    "name": "ipython",
    "version": 3
   },
   "file_extension": ".py",
   "mimetype": "text/x-python",
   "name": "python",
   "nbconvert_exporter": "python",
   "pygments_lexer": "ipython3",
   "version": "3.11.4"
  },
  "orig_nbformat": 4
 },
 "nbformat": 4,
 "nbformat_minor": 2
}
